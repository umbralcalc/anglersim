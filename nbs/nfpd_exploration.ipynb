{
 "cells": [
  {
   "cell_type": "markdown",
   "id": "ac4eaede",
   "metadata": {},
   "source": [
    "# NFPD data exploration\n",
    "\n",
    "> These are Go notebooks: In order to use the GoNB Jupyter Kernel, please install GoNB from here: https://github.com/janpfeifer/gonb\n",
    "\n",
    "Note also that for local package development, you can put: `!*go mod edit -replace \"github.com/umbralcalc/anglersim=/path/to/anglersim\"` at the top of any cell.\n",
    "\n",
    "In this notebook we're exploring the data from the NFPD bulk download facility."
   ]
  },
  {
   "cell_type": "markdown",
   "id": "2bdf58d4",
   "metadata": {},
   "source": []
  }
 ],
 "metadata": {
  "kernelspec": {
   "display_name": "Go (gonb)",
   "language": "go",
   "name": "gonb"
  },
  "language_info": {
   "name": "go"
  }
 },
 "nbformat": 4,
 "nbformat_minor": 5
}
